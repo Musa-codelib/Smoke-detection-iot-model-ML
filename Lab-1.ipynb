{
 "cells": [
  {
   "cell_type": "code",
   "execution_count": 47,
   "id": "f0218ea5",
   "metadata": {},
   "outputs": [],
   "source": [
    "import pandas as pd\n",
    "import matplotlib.pyplot as plt\n",
    "import seaborn as sns\n",
    "import numpy as np\n",
    "import hvplot.pandas\n",
    "from scipy import stats\n",
    "import os\n",
    "import hvplot.pandas"
   ]
  },
  {
   "cell_type": "code",
   "execution_count": 48,
   "id": "162446fd",
   "metadata": {},
   "outputs": [],
   "source": [
    "output_folder = 'plots'\n",
    "if not os.path.exists(output_folder):\n",
    "    os.makedirs(output_folder)"
   ]
  },
  {
   "cell_type": "code",
   "execution_count": 49,
   "id": "9044be9a",
   "metadata": {},
   "outputs": [
    {
     "data": {
      "text/html": [
       "<div>\n",
       "<style scoped>\n",
       "    .dataframe tbody tr th:only-of-type {\n",
       "        vertical-align: middle;\n",
       "    }\n",
       "\n",
       "    .dataframe tbody tr th {\n",
       "        vertical-align: top;\n",
       "    }\n",
       "\n",
       "    .dataframe thead th {\n",
       "        text-align: right;\n",
       "    }\n",
       "</style>\n",
       "<table border=\"1\" class=\"dataframe\">\n",
       "  <thead>\n",
       "    <tr style=\"text-align: right;\">\n",
       "      <th></th>\n",
       "      <th>Unnamed: 0</th>\n",
       "      <th>UTC</th>\n",
       "      <th>Temperature[C]</th>\n",
       "      <th>Humidity[%]</th>\n",
       "      <th>TVOC[ppb]</th>\n",
       "      <th>eCO2[ppm]</th>\n",
       "      <th>Raw H2</th>\n",
       "      <th>Raw Ethanol</th>\n",
       "      <th>Pressure[hPa]</th>\n",
       "      <th>PM1.0</th>\n",
       "      <th>PM2.5</th>\n",
       "      <th>NC0.5</th>\n",
       "      <th>NC1.0</th>\n",
       "      <th>NC2.5</th>\n",
       "      <th>CNT</th>\n",
       "      <th>FireAlarm</th>\n",
       "    </tr>\n",
       "  </thead>\n",
       "  <tbody>\n",
       "    <tr>\n",
       "      <th>0</th>\n",
       "      <td>0</td>\n",
       "      <td>1654733331</td>\n",
       "      <td>20.00</td>\n",
       "      <td>57.36</td>\n",
       "      <td>0</td>\n",
       "      <td>400</td>\n",
       "      <td>12306</td>\n",
       "      <td>18520</td>\n",
       "      <td>939.74</td>\n",
       "      <td>0.00</td>\n",
       "      <td>0.00</td>\n",
       "      <td>0.00</td>\n",
       "      <td>0.00</td>\n",
       "      <td>0.00</td>\n",
       "      <td>0</td>\n",
       "      <td>0</td>\n",
       "    </tr>\n",
       "    <tr>\n",
       "      <th>1</th>\n",
       "      <td>1</td>\n",
       "      <td>1654733332</td>\n",
       "      <td>20.02</td>\n",
       "      <td>56.67</td>\n",
       "      <td>0</td>\n",
       "      <td>400</td>\n",
       "      <td>12345</td>\n",
       "      <td>18651</td>\n",
       "      <td>939.74</td>\n",
       "      <td>0.00</td>\n",
       "      <td>0.00</td>\n",
       "      <td>0.00</td>\n",
       "      <td>0.00</td>\n",
       "      <td>0.00</td>\n",
       "      <td>1</td>\n",
       "      <td>0</td>\n",
       "    </tr>\n",
       "    <tr>\n",
       "      <th>2</th>\n",
       "      <td>2</td>\n",
       "      <td>1654733333</td>\n",
       "      <td>20.03</td>\n",
       "      <td>55.96</td>\n",
       "      <td>0</td>\n",
       "      <td>400</td>\n",
       "      <td>12374</td>\n",
       "      <td>18764</td>\n",
       "      <td>939.74</td>\n",
       "      <td>0.00</td>\n",
       "      <td>0.00</td>\n",
       "      <td>0.00</td>\n",
       "      <td>0.00</td>\n",
       "      <td>0.00</td>\n",
       "      <td>2</td>\n",
       "      <td>0</td>\n",
       "    </tr>\n",
       "    <tr>\n",
       "      <th>3</th>\n",
       "      <td>3</td>\n",
       "      <td>1654733334</td>\n",
       "      <td>20.04</td>\n",
       "      <td>55.28</td>\n",
       "      <td>0</td>\n",
       "      <td>400</td>\n",
       "      <td>12390</td>\n",
       "      <td>18849</td>\n",
       "      <td>939.74</td>\n",
       "      <td>0.00</td>\n",
       "      <td>0.00</td>\n",
       "      <td>0.00</td>\n",
       "      <td>0.00</td>\n",
       "      <td>0.00</td>\n",
       "      <td>3</td>\n",
       "      <td>0</td>\n",
       "    </tr>\n",
       "    <tr>\n",
       "      <th>4</th>\n",
       "      <td>4</td>\n",
       "      <td>1654733335</td>\n",
       "      <td>20.06</td>\n",
       "      <td>54.69</td>\n",
       "      <td>0</td>\n",
       "      <td>400</td>\n",
       "      <td>12403</td>\n",
       "      <td>18921</td>\n",
       "      <td>939.74</td>\n",
       "      <td>0.00</td>\n",
       "      <td>0.00</td>\n",
       "      <td>0.00</td>\n",
       "      <td>0.00</td>\n",
       "      <td>0.00</td>\n",
       "      <td>4</td>\n",
       "      <td>0</td>\n",
       "    </tr>\n",
       "  </tbody>\n",
       "</table>\n",
       "</div>"
      ],
      "text/plain": [
       "   Unnamed: 0         UTC  Temperature[C]  Humidity[%]  TVOC[ppb]  eCO2[ppm]  \\\n",
       "0           0  1654733331           20.00        57.36          0        400   \n",
       "1           1  1654733332           20.02        56.67          0        400   \n",
       "2           2  1654733333           20.03        55.96          0        400   \n",
       "3           3  1654733334           20.04        55.28          0        400   \n",
       "4           4  1654733335           20.06        54.69          0        400   \n",
       "\n",
       "   Raw H2  Raw Ethanol  Pressure[hPa]  PM1.0  PM2.5  NC0.5  NC1.0  NC2.5  CNT  \\\n",
       "0   12306        18520         939.74   0.00   0.00   0.00   0.00   0.00    0   \n",
       "1   12345        18651         939.74   0.00   0.00   0.00   0.00   0.00    1   \n",
       "2   12374        18764         939.74   0.00   0.00   0.00   0.00   0.00    2   \n",
       "3   12390        18849         939.74   0.00   0.00   0.00   0.00   0.00    3   \n",
       "4   12403        18921         939.74   0.00   0.00   0.00   0.00   0.00    4   \n",
       "\n",
       "   FireAlarm  \n",
       "0          0  \n",
       "1          0  \n",
       "2          0  \n",
       "3          0  \n",
       "4          0  "
      ]
     },
     "execution_count": 49,
     "metadata": {},
     "output_type": "execute_result"
    }
   ],
   "source": [
    "df = pd.read_csv(\"smoke_detection_iot.csv\")\n",
    "df.head()"
   ]
  },
  {
   "cell_type": "code",
   "execution_count": null,
   "id": "9aeaaed3",
   "metadata": {},
   "outputs": [],
   "source": []
  },
  {
   "cell_type": "code",
   "execution_count": 50,
   "id": "b6987f29",
   "metadata": {},
   "outputs": [
    {
     "name": "stdout",
     "output_type": "stream",
     "text": [
      "<class 'pandas.core.frame.DataFrame'>\n",
      "RangeIndex: 62630 entries, 0 to 62629\n",
      "Data columns (total 16 columns):\n",
      " #   Column          Non-Null Count  Dtype  \n",
      "---  ------          --------------  -----  \n",
      " 0   Unnamed: 0      62630 non-null  int64  \n",
      " 1   UTC             62630 non-null  int64  \n",
      " 2   Temperature[C]  62630 non-null  float64\n",
      " 3   Humidity[%]     62630 non-null  float64\n",
      " 4   TVOC[ppb]       62630 non-null  int64  \n",
      " 5   eCO2[ppm]       62630 non-null  int64  \n",
      " 6   Raw H2          62630 non-null  int64  \n",
      " 7   Raw Ethanol     62630 non-null  int64  \n",
      " 8   Pressure[hPa]   62630 non-null  float64\n",
      " 9   PM1.0           62630 non-null  float64\n",
      " 10  PM2.5           62630 non-null  float64\n",
      " 11  NC0.5           62630 non-null  float64\n",
      " 12  NC1.0           62630 non-null  float64\n",
      " 13  NC2.5           62630 non-null  float64\n",
      " 14  CNT             62630 non-null  int64  \n",
      " 15  FireAlarm       62630 non-null  int64  \n",
      "dtypes: float64(8), int64(8)\n",
      "memory usage: 7.6 MB\n"
     ]
    }
   ],
   "source": [
    "df.info()"
   ]
  },
  {
   "cell_type": "code",
   "execution_count": 51,
   "id": "20b71006",
   "metadata": {},
   "outputs": [
    {
     "data": {
      "text/plain": [
       "(62630, 16)"
      ]
     },
     "execution_count": 51,
     "metadata": {},
     "output_type": "execute_result"
    }
   ],
   "source": [
    "df.shape"
   ]
  },
  {
   "cell_type": "code",
   "execution_count": null,
   "id": "4f8acbb9",
   "metadata": {},
   "outputs": [],
   "source": []
  },
  {
   "cell_type": "code",
   "execution_count": 52,
   "id": "698b21e9",
   "metadata": {},
   "outputs": [
    {
     "name": "stdout",
     "output_type": "stream",
     "text": [
      "Index(['Unnamed: 0', 'UTC', 'Temperature[C]', 'Humidity[%]', 'TVOC[ppb]',\n",
      "       'eCO2[ppm]', 'Raw H2', 'Raw Ethanol', 'Pressure[hPa]', 'PM1.0', 'PM2.5',\n",
      "       'NC0.5', 'NC1.0', 'NC2.5', 'CNT', 'FireAlarm'],\n",
      "      dtype='object')\n"
     ]
    }
   ],
   "source": [
    "print(df.columns)"
   ]
  },
  {
   "cell_type": "code",
   "execution_count": null,
   "id": "6207ed9a",
   "metadata": {},
   "outputs": [],
   "source": []
  },
  {
   "cell_type": "code",
   "execution_count": 53,
   "id": "79f0c981",
   "metadata": {},
   "outputs": [
    {
     "name": "stdout",
     "output_type": "stream",
     "text": [
      "Index(['Temperature[C]', 'Humidity[%]', 'TVOC[ppb]', 'eCO2[ppm]', 'Raw H2',\n",
      "       'Raw Ethanol', 'Pressure[hPa]', 'PM1.0', 'PM2.5', 'NC0.5', 'NC1.0',\n",
      "       'NC2.5', 'CNT', 'FireAlarm'],\n",
      "      dtype='object')\n"
     ]
    }
   ],
   "source": [
    "df = df.drop(['Unnamed: 0', 'UTC'], axis=1)\n",
    "\n",
    "print(df.columns)"
   ]
  },
  {
   "cell_type": "code",
   "execution_count": 54,
   "id": "18c67dea",
   "metadata": {},
   "outputs": [
    {
     "data": {
      "text/plain": [
       "(62630, 14)"
      ]
     },
     "execution_count": 54,
     "metadata": {},
     "output_type": "execute_result"
    }
   ],
   "source": [
    "df.shape"
   ]
  },
  {
   "cell_type": "code",
   "execution_count": 55,
   "id": "5d97ddb7",
   "metadata": {},
   "outputs": [
    {
     "name": "stdout",
     "output_type": "stream",
     "text": [
      "Index(['Temperature[C]', 'Humidity[%]', 'TVOC[ppb]', 'eCO2[ppm]', 'Raw H2',\n",
      "       'Raw Ethanol', 'Pressure[hPa]', 'PM1.0', 'PM2.5', 'NC0.5', 'NC1.0',\n",
      "       'NC2.5', 'CNT', 'FireAlarm'],\n",
      "      dtype='object')\n"
     ]
    }
   ],
   "source": [
    "print(df.columns)"
   ]
  },
  {
   "cell_type": "code",
   "execution_count": 56,
   "id": "a1df244d",
   "metadata": {},
   "outputs": [
    {
     "data": {
      "text/html": [
       "<div>\n",
       "<style scoped>\n",
       "    .dataframe tbody tr th:only-of-type {\n",
       "        vertical-align: middle;\n",
       "    }\n",
       "\n",
       "    .dataframe tbody tr th {\n",
       "        vertical-align: top;\n",
       "    }\n",
       "\n",
       "    .dataframe thead th {\n",
       "        text-align: right;\n",
       "    }\n",
       "</style>\n",
       "<table border=\"1\" class=\"dataframe\">\n",
       "  <thead>\n",
       "    <tr style=\"text-align: right;\">\n",
       "      <th></th>\n",
       "      <th>Temperature[C]</th>\n",
       "      <th>Humidity[%]</th>\n",
       "      <th>TVOC[ppb]</th>\n",
       "      <th>eCO2[ppm]</th>\n",
       "      <th>Raw H2</th>\n",
       "      <th>Raw Ethanol</th>\n",
       "      <th>Pressure[hPa]</th>\n",
       "      <th>PM1.0</th>\n",
       "      <th>PM2.5</th>\n",
       "      <th>NC0.5</th>\n",
       "      <th>NC1.0</th>\n",
       "      <th>NC2.5</th>\n",
       "      <th>CNT</th>\n",
       "      <th>FireAlarm</th>\n",
       "    </tr>\n",
       "  </thead>\n",
       "  <tbody>\n",
       "    <tr>\n",
       "      <th>count</th>\n",
       "      <td>62630.00</td>\n",
       "      <td>62630.00</td>\n",
       "      <td>62630.00</td>\n",
       "      <td>62630.00</td>\n",
       "      <td>62630.00</td>\n",
       "      <td>62630.00</td>\n",
       "      <td>62630.00</td>\n",
       "      <td>62630.00</td>\n",
       "      <td>62630.00</td>\n",
       "      <td>62630.00</td>\n",
       "      <td>62630.00</td>\n",
       "      <td>62630.00</td>\n",
       "      <td>62630.00</td>\n",
       "      <td>62630.00</td>\n",
       "    </tr>\n",
       "    <tr>\n",
       "      <th>mean</th>\n",
       "      <td>15.97</td>\n",
       "      <td>48.54</td>\n",
       "      <td>1942.06</td>\n",
       "      <td>670.02</td>\n",
       "      <td>12942.45</td>\n",
       "      <td>19754.26</td>\n",
       "      <td>938.63</td>\n",
       "      <td>100.59</td>\n",
       "      <td>184.47</td>\n",
       "      <td>491.46</td>\n",
       "      <td>203.59</td>\n",
       "      <td>80.05</td>\n",
       "      <td>10511.39</td>\n",
       "      <td>0.71</td>\n",
       "    </tr>\n",
       "    <tr>\n",
       "      <th>std</th>\n",
       "      <td>14.36</td>\n",
       "      <td>8.87</td>\n",
       "      <td>7811.59</td>\n",
       "      <td>1905.89</td>\n",
       "      <td>272.46</td>\n",
       "      <td>609.51</td>\n",
       "      <td>1.33</td>\n",
       "      <td>922.52</td>\n",
       "      <td>1976.31</td>\n",
       "      <td>4265.66</td>\n",
       "      <td>2214.74</td>\n",
       "      <td>1083.38</td>\n",
       "      <td>7597.87</td>\n",
       "      <td>0.45</td>\n",
       "    </tr>\n",
       "    <tr>\n",
       "      <th>min</th>\n",
       "      <td>-22.01</td>\n",
       "      <td>10.74</td>\n",
       "      <td>0.00</td>\n",
       "      <td>400.00</td>\n",
       "      <td>10668.00</td>\n",
       "      <td>15317.00</td>\n",
       "      <td>930.85</td>\n",
       "      <td>0.00</td>\n",
       "      <td>0.00</td>\n",
       "      <td>0.00</td>\n",
       "      <td>0.00</td>\n",
       "      <td>0.00</td>\n",
       "      <td>0.00</td>\n",
       "      <td>0.00</td>\n",
       "    </tr>\n",
       "    <tr>\n",
       "      <th>25%</th>\n",
       "      <td>10.99</td>\n",
       "      <td>47.53</td>\n",
       "      <td>130.00</td>\n",
       "      <td>400.00</td>\n",
       "      <td>12830.00</td>\n",
       "      <td>19435.00</td>\n",
       "      <td>938.70</td>\n",
       "      <td>1.28</td>\n",
       "      <td>1.34</td>\n",
       "      <td>8.82</td>\n",
       "      <td>1.38</td>\n",
       "      <td>0.03</td>\n",
       "      <td>3625.25</td>\n",
       "      <td>0.00</td>\n",
       "    </tr>\n",
       "    <tr>\n",
       "      <th>50%</th>\n",
       "      <td>20.13</td>\n",
       "      <td>50.15</td>\n",
       "      <td>981.00</td>\n",
       "      <td>400.00</td>\n",
       "      <td>12924.00</td>\n",
       "      <td>19501.00</td>\n",
       "      <td>938.82</td>\n",
       "      <td>1.81</td>\n",
       "      <td>1.88</td>\n",
       "      <td>12.45</td>\n",
       "      <td>1.94</td>\n",
       "      <td>0.04</td>\n",
       "      <td>9336.00</td>\n",
       "      <td>1.00</td>\n",
       "    </tr>\n",
       "    <tr>\n",
       "      <th>75%</th>\n",
       "      <td>25.41</td>\n",
       "      <td>53.24</td>\n",
       "      <td>1189.00</td>\n",
       "      <td>438.00</td>\n",
       "      <td>13109.00</td>\n",
       "      <td>20078.00</td>\n",
       "      <td>939.42</td>\n",
       "      <td>2.09</td>\n",
       "      <td>2.18</td>\n",
       "      <td>14.42</td>\n",
       "      <td>2.25</td>\n",
       "      <td>0.05</td>\n",
       "      <td>17164.75</td>\n",
       "      <td>1.00</td>\n",
       "    </tr>\n",
       "    <tr>\n",
       "      <th>max</th>\n",
       "      <td>59.93</td>\n",
       "      <td>75.20</td>\n",
       "      <td>60000.00</td>\n",
       "      <td>60000.00</td>\n",
       "      <td>13803.00</td>\n",
       "      <td>21410.00</td>\n",
       "      <td>939.86</td>\n",
       "      <td>14333.69</td>\n",
       "      <td>45432.26</td>\n",
       "      <td>61482.03</td>\n",
       "      <td>51914.68</td>\n",
       "      <td>30026.44</td>\n",
       "      <td>24993.00</td>\n",
       "      <td>1.00</td>\n",
       "    </tr>\n",
       "  </tbody>\n",
       "</table>\n",
       "</div>"
      ],
      "text/plain": [
       "       Temperature[C]  Humidity[%]  TVOC[ppb]  eCO2[ppm]   Raw H2  \\\n",
       "count        62630.00     62630.00   62630.00   62630.00 62630.00   \n",
       "mean            15.97        48.54    1942.06     670.02 12942.45   \n",
       "std             14.36         8.87    7811.59    1905.89   272.46   \n",
       "min            -22.01        10.74       0.00     400.00 10668.00   \n",
       "25%             10.99        47.53     130.00     400.00 12830.00   \n",
       "50%             20.13        50.15     981.00     400.00 12924.00   \n",
       "75%             25.41        53.24    1189.00     438.00 13109.00   \n",
       "max             59.93        75.20   60000.00   60000.00 13803.00   \n",
       "\n",
       "       Raw Ethanol  Pressure[hPa]    PM1.0    PM2.5    NC0.5    NC1.0  \\\n",
       "count     62630.00       62630.00 62630.00 62630.00 62630.00 62630.00   \n",
       "mean      19754.26         938.63   100.59   184.47   491.46   203.59   \n",
       "std         609.51           1.33   922.52  1976.31  4265.66  2214.74   \n",
       "min       15317.00         930.85     0.00     0.00     0.00     0.00   \n",
       "25%       19435.00         938.70     1.28     1.34     8.82     1.38   \n",
       "50%       19501.00         938.82     1.81     1.88    12.45     1.94   \n",
       "75%       20078.00         939.42     2.09     2.18    14.42     2.25   \n",
       "max       21410.00         939.86 14333.69 45432.26 61482.03 51914.68   \n",
       "\n",
       "         NC2.5      CNT  FireAlarm  \n",
       "count 62630.00 62630.00   62630.00  \n",
       "mean     80.05 10511.39       0.71  \n",
       "std    1083.38  7597.87       0.45  \n",
       "min       0.00     0.00       0.00  \n",
       "25%       0.03  3625.25       0.00  \n",
       "50%       0.04  9336.00       1.00  \n",
       "75%       0.05 17164.75       1.00  \n",
       "max   30026.44 24993.00       1.00  "
      ]
     },
     "execution_count": 56,
     "metadata": {},
     "output_type": "execute_result"
    }
   ],
   "source": [
    "pd.set_option(\"display.float\", \"{:.2f}\".format)\n",
    "df.describe()"
   ]
  },
  {
   "cell_type": "code",
   "execution_count": 57,
   "id": "2c2031cd",
   "metadata": {},
   "outputs": [
    {
     "data": {
      "text/plain": [
       "1    44757\n",
       "0    17873\n",
       "Name: FireAlarm, dtype: int64"
      ]
     },
     "execution_count": 57,
     "metadata": {},
     "output_type": "execute_result"
    }
   ],
   "source": [
    "df.FireAlarm.value_counts()"
   ]
  },
  {
   "cell_type": "code",
   "execution_count": null,
   "id": "a6ad1623",
   "metadata": {},
   "outputs": [],
   "source": []
  },
  {
   "cell_type": "code",
   "execution_count": 58,
   "id": "f37613a7",
   "metadata": {},
   "outputs": [
    {
     "data": {
      "image/png": "[encoded data removed]",
      "text/plain": [
       "<Figure size 640x480 with 1 Axes>"
      ]
     },
     "metadata": {},
     "output_type": "display_data"
    }
   ],
   "source": [
    "import pandas as pd\n",
    "import matplotlib.pyplot as plt\n",
    "\n",
    "# Create the bar plot\n",
    "value_counts = df['FireAlarm'].value_counts()\n",
    "bar_plot = value_counts.plot(kind='bar', title=\"Fire Alarm Counts\")\n",
    "bar_plot.set_xlabel('Fire Alarm')\n",
    "bar_plot.set_ylabel('Count')\n",
    "\n",
    "# Save the bar plot as PNG and PDF in the default working directory\n",
    "png_filename = 'Fire_Alarm_Counts.png'\n",
    "pdf_filename = 'Fire_Alarm_Counts.pdf'\n",
    "\n",
    "plt.savefig(png_filename, bbox_inches='tight')  # Save as PNG\n",
    "plt.savefig(pdf_filename, bbox_inches='tight', format='pdf')  # Save as PDF\n",
    "\n",
    "# Display the bar plot\n",
    "plt.show()\n"
   ]
  },
  {
   "cell_type": "code",
   "execution_count": 59,
   "id": "aaf3b689",
   "metadata": {},
   "outputs": [
    {
     "data": {
      "text/plain": [
       "Temperature[C]    0\n",
       "Humidity[%]       0\n",
       "TVOC[ppb]         0\n",
       "eCO2[ppm]         0\n",
       "Raw H2            0\n",
       "Raw Ethanol       0\n",
       "Pressure[hPa]     0\n",
       "PM1.0             0\n",
       "PM2.5             0\n",
       "NC0.5             0\n",
       "NC1.0             0\n",
       "NC2.5             0\n",
       "CNT               0\n",
       "FireAlarm         0\n",
       "dtype: int64"
      ]
     },
     "execution_count": 59,
     "metadata": {},
     "output_type": "execute_result"
    }
   ],
   "source": [
    "df.isna().sum()"
   ]
  },
  {
   "cell_type": "code",
   "execution_count": null,
   "id": "809fc1d8",
   "metadata": {},
   "outputs": [],
   "source": []
  },
  {
   "cell_type": "code",
   "execution_count": null,
   "id": "5bc79bdb",
   "metadata": {},
   "outputs": [],
   "source": []
  },
  {
   "cell_type": "code",
   "execution_count": null,
   "id": "4f9a9aa6",
   "metadata": {},
   "outputs": [],
   "source": []
  },
  {
   "cell_type": "code",
   "execution_count": null,
   "id": "c03cc426",
   "metadata": {},
   "outputs": [],
   "source": []
  },
  {
   "cell_type": "code",
   "execution_count": null,
   "id": "e374e3c2",
   "metadata": {},
   "outputs": [],
   "source": []
  },
  {
   "cell_type": "code",
   "execution_count": 60,
   "id": "ca0e5e0a",
   "metadata": {},
   "outputs": [],
   "source": [
    "categorical_val = []\n",
    "continous_val = []\n",
    "for column in df.columns:\n",
    "    if len(df[column].unique()) <= 10:\n",
    "        categorical_val.append(column)\n",
    "    else:\n",
    "        continous_val.append(column)"
   ]
  },
  {
   "cell_type": "code",
   "execution_count": 61,
   "id": "bd889b7b",
   "metadata": {},
   "outputs": [
    {
     "data": {
      "text/plain": [
       "['FireAlarm']"
      ]
     },
     "execution_count": 61,
     "metadata": {},
     "output_type": "execute_result"
    }
   ],
   "source": [
    "categorical_val"
   ]
  },
  {
   "cell_type": "code",
   "execution_count": null,
   "id": "3f9ac2dd",
   "metadata": {},
   "outputs": [],
   "source": []
  },
  {
   "cell_type": "code",
   "execution_count": 62,
   "id": "f35feeec",
   "metadata": {},
   "outputs": [
    {
     "data": {
      "image/png": "[encoded data removed]",
      "text/plain": [
       "<Figure size 640x480 with 2 Axes>"
      ]
     },
     "metadata": {},
     "output_type": "display_data"
    }
   ],
   "source": [
    "import os\n",
    "import seaborn as sns\n",
    "import matplotlib.pyplot as plt\n",
    "\n",
    "# Create a correlation heatmap\n",
    "sns.heatmap(df.corr(), square=True, linecolor=\"black\", linewidths=0.5)\n",
    "plt.title(\"Correlation Heatmap\")\n",
    "\n",
    "# Save the heatmap as PNG and PDF in the default working directory\n",
    "png_filename = 'correlation_heatmap.png'\n",
    "pdf_filename = 'correlation_heatmap.pdf'\n",
    "\n",
    "plt.savefig(png_filename)  # Save as PNG\n",
    "plt.savefig(pdf_filename, format='pdf')  # Save as PDF\n"
   ]
  },
  {
   "cell_type": "code",
   "execution_count": 63,
   "id": "956a9a9b",
   "metadata": {},
   "outputs": [
    {
     "data": {
      "text/html": [
       "<div>\n",
       "<style scoped>\n",
       "    .dataframe tbody tr th:only-of-type {\n",
       "        vertical-align: middle;\n",
       "    }\n",
       "\n",
       "    .dataframe tbody tr th {\n",
       "        vertical-align: top;\n",
       "    }\n",
       "\n",
       "    .dataframe thead th {\n",
       "        text-align: right;\n",
       "    }\n",
       "</style>\n",
       "<table border=\"1\" class=\"dataframe\">\n",
       "  <thead>\n",
       "    <tr style=\"text-align: right;\">\n",
       "      <th></th>\n",
       "      <th>Column</th>\n",
       "      <th>Max Corr Column</th>\n",
       "      <th>Corr</th>\n",
       "    </tr>\n",
       "  </thead>\n",
       "  <tbody>\n",
       "    <tr>\n",
       "      <th>0</th>\n",
       "      <td>NC1.0</td>\n",
       "      <td>PM2.5</td>\n",
       "      <td>1.00</td>\n",
       "    </tr>\n",
       "    <tr>\n",
       "      <th>1</th>\n",
       "      <td>NC2.5</td>\n",
       "      <td>NC1.0</td>\n",
       "      <td>0.97</td>\n",
       "    </tr>\n",
       "    <tr>\n",
       "      <th>2</th>\n",
       "      <td>PM1.0</td>\n",
       "      <td>PM2.5</td>\n",
       "      <td>0.96</td>\n",
       "    </tr>\n",
       "    <tr>\n",
       "      <th>3</th>\n",
       "      <td>eCO2[ppm]</td>\n",
       "      <td>NC0.5</td>\n",
       "      <td>0.70</td>\n",
       "    </tr>\n",
       "    <tr>\n",
       "      <th>4</th>\n",
       "      <td>Humidity[%]</td>\n",
       "      <td>Pressure[hPa]</td>\n",
       "      <td>0.69</td>\n",
       "    </tr>\n",
       "    <tr>\n",
       "      <th>5</th>\n",
       "      <td>CNT</td>\n",
       "      <td>FireAlarm</td>\n",
       "      <td>0.67</td>\n",
       "    </tr>\n",
       "    <tr>\n",
       "      <th>6</th>\n",
       "      <td>Raw H2</td>\n",
       "      <td>Raw Ethanol</td>\n",
       "      <td>0.63</td>\n",
       "    </tr>\n",
       "    <tr>\n",
       "      <th>7</th>\n",
       "      <td>Temperature[C]</td>\n",
       "      <td>TVOC[ppb]</td>\n",
       "      <td>0.08</td>\n",
       "    </tr>\n",
       "  </tbody>\n",
       "</table>\n",
       "</div>"
      ],
      "text/plain": [
       "           Column Max Corr Column  Corr\n",
       "0           NC1.0           PM2.5  1.00\n",
       "1           NC2.5           NC1.0  0.97\n",
       "2           PM1.0           PM2.5  0.96\n",
       "3       eCO2[ppm]           NC0.5  0.70\n",
       "4     Humidity[%]   Pressure[hPa]  0.69\n",
       "5             CNT       FireAlarm  0.67\n",
       "6          Raw H2     Raw Ethanol  0.63\n",
       "7  Temperature[C]       TVOC[ppb]  0.08"
      ]
     },
     "execution_count": 63,
     "metadata": {},
     "output_type": "execute_result"
    }
   ],
   "source": [
    "corr_matrix = df.corr()\n",
    "max_corr={\"Column\":[],\"Max Corr Column\":[],\"Corr\":[]}\n",
    "for i in corr_matrix:\n",
    "    column_to_exclude = i\n",
    "    corr_with_others = corr_matrix.drop(column_to_exclude)[column_to_exclude]\n",
    "\n",
    "    if i in max_corr['Max Corr Column']: continue # stop redundant rows\n",
    "        \n",
    "    highest_corr_column = corr_with_others.idxmax()\n",
    "    highest_corr_value = corr_with_others.max()\n",
    "    \n",
    "    max_corr[\"Column\"].append(i)\n",
    "    max_corr[\"Max Corr Column\"].append(highest_corr_column)\n",
    "    max_corr[\"Corr\"].append(highest_corr_value)\n",
    "        \n",
    "max_corr = pd.DataFrame(max_corr,index=None).sort_values(by=\"Corr\",ascending=False).reset_index(drop=True)\n",
    "\n",
    "max_corr"
   ]
  },
  {
   "cell_type": "code",
   "execution_count": null,
   "id": "739d2d0b",
   "metadata": {},
   "outputs": [],
   "source": []
  },
  {
   "cell_type": "code",
   "execution_count": null,
   "id": "2ce4c82e",
   "metadata": {},
   "outputs": [],
   "source": []
  },
  {
   "cell_type": "code",
   "execution_count": null,
   "id": "3230d189",
   "metadata": {},
   "outputs": [],
   "source": []
  },
  {
   "cell_type": "code",
   "execution_count": null,
   "id": "cadb3ea3",
   "metadata": {},
   "outputs": [],
   "source": []
  },
  {
   "cell_type": "code",
   "execution_count": null,
   "id": "f72ab0e9",
   "metadata": {},
   "outputs": [],
   "source": []
  },
  {
   "cell_type": "code",
   "execution_count": null,
   "id": "b29aa961",
   "metadata": {},
   "outputs": [],
   "source": []
  },
  {
   "cell_type": "code",
   "execution_count": null,
   "id": "d979f061",
   "metadata": {},
   "outputs": [],
   "source": []
  },
  {
   "cell_type": "code",
   "execution_count": null,
   "id": "eb2c27a3",
   "metadata": {},
   "outputs": [],
   "source": []
  },
  {
   "cell_type": "code",
   "execution_count": null,
   "id": "fc714249",
   "metadata": {},
   "outputs": [],
   "source": []
  }
 ],
 "metadata": {
  "kernelspec": {
   "display_name": "Python 3 (ipykernel)",
   "language": "python",
   "name": "python3"
  },
  "language_info": {
   "codemirror_mode": {
    "name": "ipython",
    "version": 3
   },
   "file_extension": ".py",
   "mimetype": "text/x-python",
   "name": "python",
   "nbconvert_exporter": "python",
   "pygments_lexer": "ipython3",
   "version": "3.10.9"
  }
 },
 "nbformat": 4,
 "nbformat_minor": 5
}
